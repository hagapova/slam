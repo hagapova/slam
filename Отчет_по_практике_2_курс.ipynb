{
  "nbformat": 4,
  "nbformat_minor": 0,
  "metadata": {
    "colab": {
      "name": "Отчет по практике 2 курс",
      "version": "0.3.2",
      "provenance": [],
      "include_colab_link": true
    },
    "kernelspec": {
      "name": "python3",
      "display_name": "Python 3"
    }
  },
  "cells": [
    {
      "cell_type": "markdown",
      "metadata": {
        "id": "view-in-github",
        "colab_type": "text"
      },
      "source": [
        "<a href=\"https://colab.research.google.com/github/hagapova/slam/blob/master/%D0%9E%D1%82%D1%87%D0%B5%D1%82_%D0%BF%D0%BE_%D0%BF%D1%80%D0%B0%D0%BA%D1%82%D0%B8%D0%BA%D0%B5_2_%D0%BA%D1%83%D1%80%D1%81.ipynb\" target=\"_parent\"><img src=\"https://colab.research.google.com/assets/colab-badge.svg\" alt=\"Open In Colab\"/></a>"
      ]
    },
    {
      "cell_type": "markdown",
      "metadata": {
        "id": "IzbeVtTLiEJI",
        "colab_type": "text"
      },
      "source": [
        "##Abstract\n",
        "\n",
        "Получив результаты работы, проделанной нами к концу марта 2019, мы встретились со следующей проблемой: траектория, восстановленная по 2D-изображениям (раскадровка видео, на котором запечатлен поворот), имела такой вид:\n",
        "\n",
        "![alt text](https://i.ibb.co/NVppSZw/Screen-Shot-2019-08-08-at-12-25-20-PM.png)\n",
        "\n",
        "Наклонная прямая показалась нам похожа на приближенный поворот направо. Но движение траектории “вперед-назад” нельзя было объяснить никак, кроме как ошибкой в реализации алгоритма. Исправление этой ошибки и улучшение работы нашего одометра мы перед собой и поставили целью в данной работе.\n",
        "\n",
        "В ходе выявления ошибок в коде мы пришли к следующим выводам и результатам (подробно о каждом из которых мы расскажем ниже):\n",
        "1. Мы неправильно считали координаты положений камеры. \n",
        "1. Мы неправильно понимали принцип работы одной из функций, которые мы использовали для вычисления существенной матрицы. В этой связи мы упустили в нашей работе один важный шаг -- отслеживание объектов.\n",
        "2. По существенной матрице можно восстановить вектор перемещения и две матрицы поворота -- мы узнали, как именно выбор знака вектора и одной из матриц влияет на изменение траектории и как выбрать правильный вариант из четырех возможных (в марте мы делали это по принципу выбора ближайшего к предыдущему, что было неверной стратегией).\n",
        "3. Мы познакомились с понятием “dominant direction” и ввели в наш алгоритм соответствующую проверку.\n",
        "\n",
        "\n",
        "Рассмотрим отдельно каждый пункт.\n"
      ]
    },
    {
      "cell_type": "markdown",
      "metadata": {
        "id": "tjbfTYx0jngz",
        "colab_type": "text"
      },
      "source": [
        "## Как мы считали положения камеры, и как нужно на самом деле?\n",
        "\n",
        "В весенней работе наше предположение было простым: каждое следующее положение определяется поворотом на матрицу поворота и смещением на вектор перемещения:\n",
        "\n",
        "$$(x_{i+1}, y_{i+1}, z_{i+1})^{T} = R_{i} \\times  (x_{i}, y_{i}, z_{i})^{T} + t_{i}$$\n",
        "\n",
        "Мы не учли, что, вообще говоря, матрица поворота и вектор перемещения вычисляются без знания о том, где находится камера и как она была повернута относительно начала своего движения. Значит, матрица и вектор выражены в локальной системе координат, и для каждого следующего перемещения она своя. Нам нужно сперва пересчитать вектор и матрицу в глобальной системе координат, в которой мы и будем вычислять траекторию.\n",
        "\n",
        "Из линейной алгебры мы знаем, что матрица поворота $R(({X}_{1}, {Y}_{1}, {Z}_{1}), ({X}_{2}, {Y}_{2}, {Z}_{2}))$ -- это как раз матрица перехода из $ ({X}_{1}, {Y}_{1}, {Z}_{1})$ в $({X}_{2}, {Y}_{2}, {Z}_{2})$. \n",
        "\n",
        "Кроме того, если мы имеем два последовательных перехода из системы $({X}_{1}, {Y}_{1}, {Z}_{1})$ в систему $({X}_{2}, {Y}_{2}, {Z}_{2})$, и из $({X}_{2}, {Y}_{2}, {Z}_{2})$ в $({X}_{3}, {Y}_{3}, {Z}_{3})$, то:\n",
        "$$C(({X}_{1}, {Y}_{1}, {Z}_{1}), ({X}_{2}, {Y}_{2}, {Z}_{2})) =\\\\\n",
        "C(({X}_{1}, {Y}_{1}, {Z}_{1}), ({X}_{2}, {Y}_{2}, {Z}_{2}))\\times C(({X}_{2}, {Y}_{2}, {Z}_{2}),({X}_{3}, {Y}_{3}, {Z}_{3}))$$\n",
        "\n",
        "Таким образом, матрица перехода из системы координат $i$-го положения в глобальную систему координат -- это последовательное произведение матриц поворота первых $i-1$ шагов.\n",
        "\n",
        "Теперь мы будем считать положения так:\n",
        "\n",
        "$$i = 0 \\Rightarrow C =\n",
        "\\begin{pmatrix} \n",
        "1 & 0 & 0 \\\\\n",
        "0 & 1 & 0\\\\\n",
        "0 & 0 & 1\n",
        "\\end{pmatrix}$$\n",
        "\n",
        "$$\n",
        "C = C \\times R_{i} \\\\\n",
        "t^{global}_{i} = C^{-1}\\times t_{i}\\\\\n",
        "(x_{i+1}, y_{i+1}, z_{i+1})^{T} = (x_{i}, y_{i}, z_{i})^{T} + t^{global}_{i}\\\\\n",
        "$$"
      ]
    },
    {
      "cell_type": "markdown",
      "metadata": {
        "id": "d_BcLLZfkxi5",
        "colab_type": "text"
      },
      "source": [
        "##Что мы не понимали про cv.findEssentialMat(...)?\n",
        "\n",
        "При работе с функцией, считающей существенную матрицу, мы упустили важный факт: принимая на вход два массива значимых точек с пары картинок, алгоритм предполагает, что эти массивы будут одного размера, а i-й элемент первого массива будет соответствовать i-му элементу второго, то есть эти две точки будут соответствовать одной и той же точке в 3D-пространстве. По сути, для того, чтобы предоставить функции два массива соответствующих точек, мы должны были выполнить такую фундаментальную задачу, как Object Tracking, то есть предположить для каждой точки с первого изображения, где соответствующая ей точка окажется на второй. Этот шаг в нашей весенней работе был пропущен.\n",
        "\n",
        "Исправляя ошибку, мы вручную стали решать задачу Object Tracking, отслеживая углы описанных вокруг одних и тех же объектов прямоугольников (наши значимые точки). Для большей устойчивости мы добавили к точкам, соответствующим каждому объекту, кроме углов, еще середины сторон описанного прямоугольника и его центр. Это связано с нашим предположением, сделанным в конце весенней работы, о том, что значимых точек нужно использовать больше.\n",
        "\n",
        "Итак, одному объекту у нас соответствует девять значимых точек. Допустим, мы имеем пару последовательных кадров -- А и Б. На каждом из них распознан объект, о котором мы знаем только его тип, название неподвижного объекта (допустим, это “дерево”). Дальше будем считать, что мы уже знаем, что пара объектов с кадров А и Б принадлежит одному типу (мы включили в наш код соответствующую проверку). \n",
        "\n",
        "Перед нами стоят задачи:\n",
        "1. Понять: дерево с кадра А соответствует тому же реальному дереву, что и дерево с кадра Б? Если да, то:\n",
        "2. Какая из 9 значимых точек дерева с кадра А соответствует какой из точек дерева с кадра Б? \n",
        "\n",
        "Если мы ответим на вопрос 2, то получим два массива, в которых i-е элементы -- соответствующие друг другу значимые точки.\n",
        "Для каждого объекта, распознанного на кадре А, мы найдем пару на кадре Б, либо поймем, что на кадре Б такой пары не найдется (ведь точка, которая видна на кадре А, на Б уже могла исчезнуть из поля зрения).\n",
        "\n",
        "Тогда, задав минимальное приемлемое количество таких соответствий, мы можем считать, что соответствующие точки с кадра Б -- это и есть предположительные координаты точек с кадра А (ведь смысл у них одинаковый -- угол/центр/середина стороны описанного прямоугольника одного и того же 3D-объекта). А значит, с таким грубым предположением, мы выполним задачу Object Tracking. \n",
        "\n",
        "На практике мы выяснили, что для нашего датасета и нашей нейронной сети в качестве решения вопроса 1 подходило посчитать отношение пересечения описанных прямоугольников к их объединению (назовем эту величину IoU двух объектов). Если на кадре А распознано дерево 1, а на кадре Б распознано дерево 2, то мы считаем деревья 1 и 2 одним и тем же деревом только в следущем случае: на кадре Б не распознано другого дерева, для которого IoU с деревом 1 было бы больше, чем IoU деревьев 1 и 2.\n",
        "\n",
        "Получив ответ на вопрос 1 для каждого объекта с первого из двух последовательных кадров, мы сопоставляем углы, середины сторон и центры описанных прямоугольников, и получаем ответ на вопрос 2, а значит -- два подходящих для функции ```findEssentialMat``` массива точек.\n",
        "\n",
        "Так мы проходим по всем последовательным парам кадров, но пропускаем кадры, на которых распознано меньше двух общих с предыдущим кадром объектов (то есть не больше 9 пар точек). Так мы не попадем ни в ситуацию, когда значимых точек будет недостаточно для достоверного вычисления существенной матрицы, ни в ситуацию, когда на кадрах просто не распозналось общих объектов, общих точек не будет вообще, и считать будет нечего.\n"
      ]
    },
    {
      "cell_type": "markdown",
      "metadata": {
        "id": "mPeOAId7n2Au",
        "colab_type": "text"
      },
      "source": [
        "##Как выбрать -- $R_{1}$ или $R_{2}$, $t$ или $-t$?\n",
        "\n",
        "В весенней работе мы упомянули две функции -- ```decomposeEssentialMat``` и ```recoverPose```. \n",
        "\n",
        "И та, и другая принимают на вход существенную матрицу и вычисляют из нее матрицу поворота и вектор перемещения при помощи SVD-разложения. В ходе SVD из-за свойств существенной матрицы возникает двойственность -- центральный из полученных множителей может быть равен как $ W$, так и ${W}^{Т} $, где $$W = \\begin{pmatrix} \n",
        "0 & 1 & 0 \\\\\n",
        "-1 & 0 & 0\\\\\n",
        "0 & 0 & -1\n",
        "\\end{pmatrix}$$\n",
        "Подробное объяснение этого факта со всеми алгебраическими выкладками описано в публикации [[1]](http://igt.ip.uca.fr/~ab/Classes/DIKU-3DCV2/Handouts/Lecture16.pdf) (авторы -- Adrien Bartoli, CNRS – LASMEA, Клермон-Ферран, и Søren I. Olsen, DIKU, Копенгаген).\n",
        "\n",
        "Для нас же важен следующий факт: когда на выходе ```decomposeEssentialMat``` предлагает две возможных матрицы поворота ($R_{1}$ и $R_{2}$) и вектор перемещения ($t$), мы имеем дело именно с описанной выше двойственностью. \n",
        "Как мы уже знаем, два возможных знака вектора перемещения и две возможных матрицы поворота дают нам четыре возможных варианта изменения позиции камеры. Теперь, разобравшись, чем именно отличаются две предложенных матрицы, мы знаем, как именно выбор одного из четырех вариантов повлияет на строение траектории:\n",
        "1. Выбор матрицы отвечает за отражение траектории относительно линии, соединяющей координаты камер (в нашем случае, предположение о том, где будет камера, отражается от линии, соединяющей предыдущие два положения камеры).\n",
        "2. Выбор знака вектора отвечает за направление движения: вперед или назад.\n",
        "\n",
        "В результате сопоставления точек (то есть устранения предыдущей ошибки), мы получили такую траекторию:\n",
        "![alt text](https://i.ibb.co/vdzFDYd/Screen-Shot-2019-07-26-at-5-13-38-PM.png)\n"
      ]
    },
    {
      "cell_type": "markdown",
      "metadata": {
        "id": "xit2lr0fm8Lv",
        "colab_type": "text"
      },
      "source": [
        "Здесь значимые точки сопоставлены правильно, но выбор матрицы поворота мы все еще делаем по принципу ближайшей к предыдущей матрице, то есть, почти случайно, а вектор перемещения мы вообще принимаем как есть -- весной мы предполагали, что выбор знака за нас уже сделала функция ```decomposeEssentialMat```. \n",
        "\n",
        "На самом же деле, если мы используем функцию ```decomposeEssentialMat```, то и выбор матрицы, и выбор знака вектора лежит на нас, тогда как ```recoverPose``` делает выбор при помощи RANSAC. В предыдущей работе мы не придавали значения важности этого выбора, а поэтому сочли функцию ```recoverPose``` аналогичной действию функции ```decomposeEssentialMat``` вместе с выбором правильного варианта вручную. Теперь мы знаем, что это неверно, и поэтому заменяем использование ```decomposeEssentialMat``` на ```recoverPose```.\n",
        "\n",
        "По ходу мы снова пропускаем кадры, если ```recoverPose``` нашла среди точек слишком много аутлаеров (это один из параметров, который возвращает функция, мы поставили границу -- не больше 3 аутлаеров из 18), и поэтому ее решение будет ненадежным.\n"
      ]
    },
    {
      "cell_type": "markdown",
      "metadata": {
        "id": "9VrLg7f9j8J3",
        "colab_type": "text"
      },
      "source": [
        "## Что такое dominant direction?\n",
        "Теперь мы получили такую траекторию:\n",
        "![alt text](https://i.ibb.co/JyxpKS6/Screen-Shot-2019-07-30-at-5-59-53-PM.png)\n",
        "Эта фигура больше всего похожа на прямую линию, а прямая линия -- промежуточный результат, которого мы хотели добиться на данном этапе.\n",
        "Здесь зеленая точка -- это точка старта камеры, а красная -- точка финиша. \n",
        "\n",
        "Мы видим, что кроме двух ошибок в выборе вектора перемещения (места, где траектория двигается назад-вперед, более жирные, чем остальные), траектория целиком пошла назад. Но мы уже знаем, почему: позиции мы считаем с учетом предыдущих положений, и если один раз вначале мы ошиблись и получили отрицательное направление, то эта ошибка развернет всю последующую траекторию."
      ]
    },
    {
      "cell_type": "markdown",
      "metadata": {
        "id": "pgd943bmw4Jm",
        "colab_type": "text"
      },
      "source": [
        "В статье [[2]](https://avisingh599.github.io/vision/monocular-vo/), где автор решает задачу, схожую с нашей, упоминается понятие \"dominant motion\". Суть его такова: автомобиль с камерой (это как раз наш случай) физически не может резко сдвинуться назад. Любой физически возможный поворот будет состоять из перемещений в полуплоскости перед камерой (видимо, автор игнорирует возможность заднего хода, и здесь мы последуем его примеру). Тогда, если алгоритм решает, что камера резко сдвинулась назад, то есть переместилась в точку в полуплоскости позади себя, то такое движение мы просто игнорируем, считая, что это ошибка."
      ]
    },
    {
      "cell_type": "markdown",
      "metadata": {
        "id": "fM11dpOH2Hi5",
        "colab_type": "text"
      },
      "source": [
        "Введя простую проверку на координату $X$ каждого положения, мы убеждаемся, что камера не двигается резко назад. В противном случае мы не игнорируем это перемещение, а \"разворачиваем\" -- то есть учитываем соответствующий вектор перемещения с минусом. Это связано с тем, что мы уже знаем о характере недочетов нашей реализации -- ошибка где-то в выборе матрицы поворота и векторе перемещения."
      ]
    },
    {
      "cell_type": "markdown",
      "metadata": {
        "id": "LrZ_AA_s2rSq",
        "colab_type": "text"
      },
      "source": [
        "Так мы получили такую траекторию (на большем количестве кадров):\n",
        "![alt text](data:image/png;base64,iVBORw0KGgoAAAANSUhEUgAAA6QAAAIMCAYAAADih2HqAAAABHNCSVQICAgIfAhkiAAAAAlwSFlz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)"
      ]
    },
    {
      "cell_type": "markdown",
      "metadata": {
        "id": "QLiey5Eb26lk",
        "colab_type": "text"
      },
      "source": [
        "В введенной нами проверке есть свои минусы -- мы меняем только знак вектора, а для точного воспроизведения траектории нам нужно проверять и матрицу поворота."
      ]
    },
    {
      "cell_type": "markdown",
      "metadata": {
        "id": "tGtdwsRn3N2v",
        "colab_type": "text"
      },
      "source": [
        "## Что еще?\n",
        "\n",
        "На всех полученных графиках мы видим наклон. Не разобравшись в проблеме, мы предполагали, что наклонная прямая -- это \"примерно\" поворот направо. Теперь, когда в поиске ошибки мы проверяли каждый шаг отдельно, мы понимаем, что это не так -- ведь в каждом перемещении не содержится никакой информации о том, что дальше будет резкий поворот. Это (а так же линейное возрастание координаты $Z$, которая должна вообще оставаться константно равной нулю) наводит нас на мысль, что глобальная система координат смещена, и нужно развернуть ее обратно. "
      ]
    },
    {
      "cell_type": "markdown",
      "metadata": {
        "id": "_WOmvpOZwIp3",
        "colab_type": "text"
      },
      "source": [
        "##Литература\n",
        "[[1]](http://igt.ip.uca.fr/~ab/Classes/DIKU-3DCV2/Handouts/Lecture16.pdf) Camera Motion From Two-View Relationships (Section 9.6), Adrien Bartoli, CNRS – LASMEA, Clermont-Ferrand, France, Søren I. Olsen, DIKU, Copenhagen, Denmark\n",
        "\n",
        "[[2]](https://avisingh599.github.io/vision/monocular-vo/), Monocular Visual Odometry using OpenCV, Avi Singh"
      ]
    }
  ]
}