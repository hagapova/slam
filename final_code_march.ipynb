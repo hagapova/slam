{
  "nbformat": 4,
  "nbformat_minor": 0,
  "metadata": {
    "colab": {
      "name": "Copy of Object detection",
      "version": "0.3.2",
      "provenance": [],
      "collapsed_sections": [],
      "include_colab_link": true
    },
    "kernelspec": {
      "display_name": "Python 3",
      "language": "python",
      "name": "python3"
    },
    "accelerator": "GPU"
  },
  "cells": [
    {
      "cell_type": "markdown",
      "metadata": {
        "id": "view-in-github",
        "colab_type": "text"
      },
      "source": [
        "<a href=\"https://colab.research.google.com/github/hagapova/slam/blob/master/final_code_march.ipynb\" target=\"_parent\"><img src=\"https://colab.research.google.com/assets/colab-badge.svg\" alt=\"Open In Colab\"/></a>"
      ]
    },
    {
      "metadata": {
        "colab_type": "text",
        "id": "N6ZDpd9XzFeN"
      },
      "cell_type": "markdown",
      "source": [
        "##### Copyright 2018 The TensorFlow Hub Authors.\n",
        "\n",
        "Licensed under the Apache License, Version 2.0 (the \"License\");"
      ]
    },
    {
      "metadata": {
        "cellView": "both",
        "colab_type": "code",
        "id": "KUu4vOt5zI9d",
        "colab": {}
      },
      "cell_type": "code",
      "source": [
        "# Copyright 2018 The TensorFlow Hub Authors. All Rights Reserved.\n",
        "#\n",
        "# Licensed under the Apache License, Version 2.0 (the \"License\");\n",
        "# you may not use this file except in compliance with the License.\n",
        "# You may obtain a copy of the License at\n",
        "#\n",
        "#     http://www.apache.org/licenses/LICENSE-2.0\n",
        "#\n",
        "# Unless required by applicable law or agreed to in writing, software\n",
        "# distributed under the License is distributed on an \"AS IS\" BASIS,\n",
        "# WITHOUT WARRANTIES OR CONDITIONS OF ANY KIND, either express or implied.\n",
        "# See the License for the specific language governing permissions and\n",
        "# limitations under the License.\n",
        "# =============================================================================="
      ],
      "execution_count": 0,
      "outputs": []
    },
    {
      "metadata": {
        "colab_type": "text",
        "id": "CxmDMK4yupqg"
      },
      "cell_type": "markdown",
      "source": [
        "# Object detection\n",
        "\n",
        "<table align=\"left\"><td>\n",
        "  <a target=\"_blank\"  href=\"https://colab.research.google.com/github/tensorflow/hub/blob/master/examples/colab/object_detection.ipynb\">\n",
        "    <img src=\"https://www.tensorflow.org/images/colab_logo_32px.png\" />Run in Google Colab\n",
        "  </a>\n",
        "</td><td>\n",
        "  <a target=\"_blank\"  href=\"https://github.com/tensorflow/hub/blob/master/examples/colab/object_detection.ipynb\">\n",
        "    <img width=32px src=\"https://www.tensorflow.org/images/GitHub-Mark-32px.png\" />View source on GitHub</a>\n",
        "</td></table>\n"
      ]
    },
    {
      "metadata": {
        "colab_type": "text",
        "id": "Sy553YSVmYiK"
      },
      "cell_type": "markdown",
      "source": [
        "This Colab demonstrates use of a TF-Hub module trained to perform object detection."
      ]
    },
    {
      "metadata": {
        "colab_type": "text",
        "id": "v4XGxDrCkeip"
      },
      "cell_type": "markdown",
      "source": [
        "## Imports and function definitions\n"
      ]
    },
    {
      "metadata": {
        "cellView": "form",
        "colab_type": "code",
        "id": "6cPY9Ou4sWs_",
        "colab": {}
      },
      "cell_type": "code",
      "source": [
        "#@title Imports and function definitions\n",
        "\n",
        "# For running inference on the TF-Hub module.\n",
        "import tensorflow as tf\n",
        "import tensorflow_hub as hub\n",
        "\n",
        "# For downloading the image.\n",
        "import matplotlib.pyplot as plt\n",
        "import tempfile\n",
        "from six.moves.urllib.request import urlopen\n",
        "from six import BytesIO\n",
        "\n",
        "# For drawing onto the image.\n",
        "import numpy as np\n",
        "from PIL import Image\n",
        "from PIL import ImageColor\n",
        "from PIL import ImageDraw\n",
        "from PIL import ImageFont\n",
        "from PIL import ImageOps\n",
        "\n",
        "# For measuring the inference time.\n",
        "import time\n",
        "\n",
        "# Check available GPU devices.\n",
        "print(\"The following GPU devices are available: %s\" % tf.test.gpu_device_name())"
      ],
      "execution_count": 0,
      "outputs": []
    },
    {
      "metadata": {
        "colab_type": "text",
        "id": "ZGkrXGy62409"
      },
      "cell_type": "markdown",
      "source": [
        "## Example use"
      ]
    },
    {
      "metadata": {
        "colab_type": "text",
        "id": "vlA3CftFpRiW"
      },
      "cell_type": "markdown",
      "source": [
        "### Helper functions for downloading images and for visualization.\n",
        "\n",
        "Visualization code adapted from [TF object detection API](https://github.com/tensorflow/models/blob/master/research/object_detection/utils/visualization_utils.py) for the simplest required functionality."
      ]
    },
    {
      "metadata": {
        "colab_type": "code",
        "id": "D9IwDpOtpIHW",
        "colab": {}
      },
      "cell_type": "code",
      "source": [
        "def display_image(image):\n",
        "  fig = plt.figure(figsize=(20, 15))\n",
        "  plt.grid(False)\n",
        "  plt.imshow(image)\n",
        "\n",
        "\n",
        "def download_and_resize_image(url, new_width=256, new_height=256,\n",
        "                              display=False):\n",
        "  _, filename = tempfile.mkstemp(suffix=\".jpg\")\n",
        "  response = urlopen(url)\n",
        "  image_data = response.read()\n",
        "  image_data = BytesIO(image_data)\n",
        "  pil_image = Image.open(image_data)\n",
        "  pil_image = ImageOps.fit(pil_image, (new_width, new_height), Image.ANTIALIAS)\n",
        "  pil_image_rgb = pil_image.convert(\"RGB\")\n",
        "  pil_image_rgb.save(filename, format=\"JPEG\", quality=90)\n",
        "  print(\"Image downloaded to %s.\" % filename)\n",
        "  if display:\n",
        "    display_image(pil_image)\n",
        "  return filename\n",
        "\n",
        "\n",
        "def draw_bounding_box_on_image(image,\n",
        "                               ymin,\n",
        "                               xmin,\n",
        "                               ymax,\n",
        "                               xmax,\n",
        "                               color,\n",
        "                               font,\n",
        "                               thickness=4,\n",
        "                               display_str_list=()):\n",
        "  \"\"\"Adds a bounding box to an image.\"\"\"\n",
        "  draw = ImageDraw.Draw(image)\n",
        "  im_width, im_height = image.size\n",
        "  (left, right, top, bottom) = (xmin * im_width, xmax * im_width,\n",
        "                                ymin * im_height, ymax * im_height)\n",
        "  draw.line([(left, top), (left, bottom), (right, bottom), (right, top),\n",
        "             (left, top)],\n",
        "            width=thickness,\n",
        "            fill=color)\n",
        "\n",
        "  # If the total height of the display strings added to the top of the bounding\n",
        "  # box exceeds the top of the image, stack the strings below the bounding box\n",
        "  # instead of above.\n",
        "  display_str_heights = [font.getsize(ds)[1] for ds in display_str_list]\n",
        "  # Each display_str has a top and bottom margin of 0.05x.\n",
        "  total_display_str_height = (1 + 2 * 0.05) * sum(display_str_heights)\n",
        "\n",
        "  if top > total_display_str_height:\n",
        "    text_bottom = top\n",
        "  else:\n",
        "    text_bottom = bottom + total_display_str_height\n",
        "  # Reverse list and print from bottom to top.\n",
        "  for display_str in display_str_list[::-1]:\n",
        "    text_width, text_height = font.getsize(display_str)\n",
        "    margin = np.ceil(0.05 * text_height)\n",
        "    draw.rectangle([(left, text_bottom - text_height - 2 * margin),\n",
        "                    (left + text_width, text_bottom)],\n",
        "                   fill=color)\n",
        "    draw.text((left + margin, text_bottom - text_height - margin),\n",
        "              display_str,\n",
        "              fill=\"black\",\n",
        "              font=font)\n",
        "    text_bottom -= text_height - 2 * margin\n",
        "\n",
        "\n",
        "def draw_boxes(image, boxes, class_names, scores, max_boxes=10, min_score=0.1):\n",
        "  \"\"\"Overlay labeled boxes on an image with formatted scores and label names.\"\"\"\n",
        "  colors = list(ImageColor.colormap.values())\n",
        "\n",
        "  try:\n",
        "    font = ImageFont.truetype(\"/usr/share/fonts/truetype/liberation/LiberationSansNarrow-Regular.ttf\",\n",
        "                              25)\n",
        "  except IOError:\n",
        "    print(\"Font not found, using default font.\")\n",
        "    font = ImageFont.load_default()\n",
        "    \n",
        "  staticobjects = [\"Window\", \"Umbrella\", \"Building\", \"House\", \"Tree\", \"Skyscraper\",\n",
        "                   \"Furniture\", \"Traffic light\", \"Street light\", \"Door\",\n",
        "                   \"Tower\", \"Billboard\"]\n",
        "  \n",
        "  allpoints = []\n",
        "  \n",
        "  for i in range(min(boxes.shape[0], max_boxes)):\n",
        "    if scores[i] >= min_score:\n",
        "      ymin, xmin, ymax, xmax = tuple(boxes[i].tolist())\n",
        "      display_str = \"{}: {}%\".format(class_names[i].decode(\"ascii\"),\n",
        "                                     int(100 * scores[i]))\n",
        "      color = colors[hash(class_names[i]) % len(colors)]\n",
        "      image_pil = Image.fromarray(np.uint8(image)).convert(\"RGB\")\n",
        "      if class_names[i].decode(\"ascii\") in staticobjects:\n",
        "        allpoints.append([xmin, ymin])\n",
        "        allpoints.append([xmax, ymax])\n",
        "        allpoints.append([xmin, ymax])\n",
        "        allpoints.append([xmax, ymin])\n",
        "        \n",
        "        draw_bounding_box_on_image(\n",
        "            image_pil,\n",
        "            ymin,\n",
        "            xmin,\n",
        "            ymax,\n",
        "            xmax,\n",
        "            color,\n",
        "            font,\n",
        "            display_str_list=[display_str])\n",
        "        np.copyto(image, np.array(image_pil))\n",
        "  outputuple = (image, allpoints)\n",
        "  return outputuple"
      ],
      "execution_count": 0,
      "outputs": []
    },
    {
      "metadata": {
        "colab_type": "text",
        "id": "D19UCu9Q2-_8"
      },
      "cell_type": "markdown",
      "source": [
        "## Apply module\n",
        "\n",
        "Load a public image from Open Images v4, save locally, and display."
      ]
    },
    {
      "metadata": {
        "cellView": "form",
        "colab_type": "code",
        "id": "YLWNhjUY1mhg",
        "colab": {}
      },
      "cell_type": "code",
      "source": [
        "image_url = \"https://farm1.staticflickr.com/4032/4653948754_c0d768086b_o.jpg\"  #@param\n",
        "downloaded_image_path = download_and_resize_image(image_url, 1280, 856, True)"
      ],
      "execution_count": 0,
      "outputs": []
    },
    {
      "metadata": {
        "colab_type": "text",
        "id": "t-VdfLbC1w51"
      },
      "cell_type": "markdown",
      "source": [
        "Pick an object detection module and apply on the downloaded image. Modules:\n",
        "* **FasterRCNN+InceptionResNet V2**: high accuracy,\n",
        "* **ssd+mobilenet V2**: small and fast."
      ]
    },
    {
      "metadata": {
        "colab_type": "code",
        "id": "uazJ5ASc2_QE",
        "cellView": "both",
        "colab": {}
      },
      "cell_type": "code",
      "source": [
        "module_handle = \"https://tfhub.dev/google/faster_rcnn/openimages_v4/inception_resnet_v2/1\" #@param [\"https://tfhub.dev/google/openimages_v4/ssd/mobilenet_v2/1\", \"https://tfhub.dev/google/faster_rcnn/openimages_v4/inception_resnet_v2/1\"]\n",
        "\n",
        "with tf.Graph().as_default():\n",
        "  detector = hub.Module(module_handle)\n",
        "  image_string_placeholder = tf.placeholder(tf.string)\n",
        "  decoded_image = tf.image.decode_jpeg(image_string_placeholder)\n",
        "  # Module accepts as input tensors of shape [1, height, width, 3], i.e. batch\n",
        "  # of size 1 and type tf.float32.\n",
        "  decoded_image_float = tf.image.convert_image_dtype(\n",
        "      image=decoded_image, dtype=tf.float32)\n",
        "  module_input = tf.expand_dims(decoded_image_float, 0)\n",
        "  result = detector(module_input, as_dict=True)\n",
        "  init_ops = [tf.global_variables_initializer(), tf.tables_initializer()]\n",
        "\n",
        "  session = tf.Session()\n",
        "  session.run(init_ops)\n",
        "\n",
        "  # Load the downloaded and resized image and feed into the graph.\n",
        "  with tf.gfile.Open(downloaded_image_path, \"rb\") as binfile:\n",
        "    image_string = binfile.read()\n",
        "\n",
        "  result_out, image_out = session.run(\n",
        "      [result, decoded_image],\n",
        "      feed_dict={image_string_placeholder: image_string})\n",
        "  print(\"Found %d objects.\" % len(result_out[\"detection_scores\"]))\n",
        "\n",
        "image_with_boxes = draw_boxes(\n",
        "    np.array(image_out), result_out[\"detection_boxes\"],\n",
        "    result_out[\"detection_class_entities\"], result_out[\"detection_scores\"])[0]\n",
        "\n",
        "display_image(image_with_boxes)"
      ],
      "execution_count": 0,
      "outputs": []
    },
    {
      "metadata": {
        "colab_type": "text",
        "id": "WUUY3nfRX7VF"
      },
      "cell_type": "markdown",
      "source": [
        "### More images\n",
        "Perform inference on some additional images with time tracking.\n"
      ]
    },
    {
      "metadata": {
        "colab_type": "code",
        "id": "rubdr2JXfsa1",
        "colab": {}
      },
      "cell_type": "code",
      "source": [
        "image_urls = [\"https://i.ibb.co/1Td0St0/0000000010.png\",\n",
        "              \"https://i.ibb.co/519bPdx/0000000011.png\",\n",
        "              \"https://i.ibb.co/HgmdwDk/0000000012.png\",\n",
        "              \"https://i.ibb.co/zsJV0Gk/0000000013.png\",\n",
        "              \"https://i.ibb.co/gP354Sy/0000000014.png\",\n",
        "              \"https://i.ibb.co/dcbkDm3/0000000015.png\",\n",
        "              \"https://i.ibb.co/vh9Pnf9/0000000016.png\",\n",
        "              \"https://i.ibb.co/48kYKg1/0000000017.png\",\n",
        "              \"https://i.ibb.co/MDpLVC5/0000000018.png\",\n",
        "              \"https://i.ibb.co/ZVF7PrM/0000000019.png\",\n",
        "              \"https://i.ibb.co/G5SYgLP/0000000020.png\",\n",
        "              \"https://i.ibb.co/NtB5VtX/0000000021.png\",\n",
        "              \"https://i.ibb.co/kcDSKWJ/0000000022.png\",\n",
        "              \"https://i.ibb.co/W62SnfW/0000000023.png\",\n",
        "              \"https://i.ibb.co/0VW4xDg/0000000024.png\",\n",
        "              \"https://i.ibb.co/NKcJTWK/0000000025.png\",\n",
        "              \"https://i.ibb.co/KyGJhD4/0000000026.png\",\n",
        "              \"https://i.ibb.co/HTVLWyy/0000000027.png\",\n",
        "              \"https://i.ibb.co/1K2NCMC/0000000028.png\",\n",
        "              \"https://i.ibb.co/jH4KFR8/0000000029.png\",\n",
        "              \"https://i.ibb.co/qRSQPSg/0000000030.png\",\n",
        "              \"https://i.ibb.co/h2q7XXg/0000000031.png\",\n",
        "              \"https://i.ibb.co/pbVKXZp/0000000032.png\",\n",
        "              \"https://i.ibb.co/TM9sTxM/0000000033.png\",\n",
        "              \"https://i.ibb.co/Xb3jj55/0000000034.png\",\n",
        "              \"https://i.ibb.co/gS3GFrr/0000000035.png\",\n",
        "              \"https://i.ibb.co/c2HbWTx/0000000039.png\",\n",
        "              \"https://i.ibb.co/RNPf93F/0000000040.png\",\n",
        "              \"https://i.ibb.co/2WN77cQ/0000000042.png\",\n",
        "              \"https://i.ibb.co/KNy0kGn/0000000044.png\",\n",
        "              \"https://i.ibb.co/CJR3khm/0000000045.png\",\n",
        "              \"https://i.ibb.co/5hfZGzJ/0000000046.png\",\n",
        "              \"https://i.ibb.co/x7yN734/0000000047.png\",\n",
        "              \"https://i.ibb.co/KqSLCQr/0000000048.png\",\n",
        "              \"https://i.ibb.co/TbLZbS1/0000000049.png\",\n",
        "              \"https://i.ibb.co/bbzQtDM/0000000050.png\",\n",
        "              \"https://i.ibb.co/bX3c2XZ/0000000052.png\",\n",
        "              \"https://i.ibb.co/ZxJs5SV/0000000053.png\",\n",
        "              \"https://i.ibb.co/fqb3R2Z/0000000054.png\",\n",
        "              \"https://i.ibb.co/nQKkRqj/0000000055.png\",\n",
        "              \"https://i.ibb.co/z6yBdcQ/0000000056.png\",\n",
        "              \"https://i.ibb.co/9cgzgV7/0000000057.png\",\n",
        "              \"https://i.ibb.co/bH8v0qr/0000000058.png\",\n",
        "              \"https://i.ibb.co/WgFJhy0/0000000059.png\",\n",
        "              \"https://i.ibb.co/VV7c7K8/0000000060.png\",\n",
        "              \"https://i.ibb.co/b5wLSLL/0000000061.png\",\n",
        "              \"https://i.ibb.co/D7zDHRD/0000000062.png\",\n",
        "              \"https://i.ibb.co/y8LMw3v/0000000063.png\",\n",
        "              \"https://i.ibb.co/zJHM0mk/0000000064.png\",\n",
        "              \"https://i.ibb.co/gJ38jYS/0000000065.png\",\n",
        "              \"https://i.ibb.co/grGSFDJ/0000000066.png\",\n",
        "              \"https://i.ibb.co/hDG1GCj/0000000067.png\",\n",
        "              \"https://i.ibb.co/kxTvKFS/0000000068.png\",\n",
        "              \"https://i.ibb.co/n1cHPJ5/0000000069.png\",\n",
        "              \"https://i.ibb.co/hYjWNdf/0000000070.png\",\n",
        "              \"https://i.ibb.co/dQNsY89/0000000071.png\",\n",
        "              \"https://i.ibb.co/d6jSSJC/0000000072.png\",\n",
        "              \"https://i.ibb.co/zxDDBQn/0000000073.png\",\n",
        "              \"https://i.ibb.co/h8PQfLy/0000000074.png\",\n",
        "              \"https://i.ibb.co/ZmXwsCy/0000000075.png\",\n",
        "              \"https://i.ibb.co/ZXFFG3w/0000000076.png\",\n",
        "              \"https://i.ibb.co/gyLwtXT/0000000077.png\",\n",
        "             ]\n",
        "\n",
        "pictures = [] #массив массивов объектов, встреченных на картинках\n",
        "\n",
        "for i in range(0, len(image_urls)):\n",
        "  image_url = image_urls[i]\n",
        "  image_path = download_and_resize_image(image_url, 640, 480)\n",
        "  with tf.gfile.Open(image_path, \"rb\") as binfile:\n",
        "    image_string = binfile.read()\n",
        "\n",
        "  inference_start_time = time.clock()\n",
        "  result_out, image_out = session.run(\n",
        "      [result, decoded_image],\n",
        "      feed_dict={image_string_placeholder: image_string})\n",
        "  print(\"Found %d objects.\" % len(result_out[\"detection_scores\"]))\n",
        "  print(\"Inference took %.2f seconds.\" % (time.clock()-inference_start_time))\n",
        "  \n",
        "  image_with_boxes = draw_boxes(\n",
        "    np.array(image_out), result_out[\"detection_boxes\"],\n",
        "    result_out[\"detection_class_entities\"], result_out[\"detection_scores\"])[0]\n",
        "  \n",
        "  #добавили массив значимых точек в массив картинок\n",
        "  pictures.append(draw_boxes(\n",
        "    np.array(image_out), result_out[\"detection_boxes\"],\n",
        "    result_out[\"detection_class_entities\"], result_out[\"detection_scores\"])[1])\n",
        "\n",
        "  display_image(image_with_boxes)"
      ],
      "execution_count": 0,
      "outputs": []
    },
    {
      "metadata": {
        "id": "fVFImbqeEjKg",
        "colab_type": "code",
        "colab": {}
      },
      "cell_type": "code",
      "source": [
        "import cv2\n",
        "import numpy as np\n",
        "import random\n",
        "\n",
        "rmatrices = []\n",
        "tvecs = []\n",
        "\n",
        "for i in range(0, len(pictures) - 1):\n",
        "  j = i + 1\n",
        "\n",
        "  if len(pictures[i]) < len(pictures[j]):\n",
        "    while len(pictures[i]) != len(pictures[j]):\n",
        "      pictures[i].append([random.random(), random.random()])\n",
        "  if len(pictures[i]) > len(pictures[j]):\n",
        "    while len(pictures[i]) != len(pictures[j]):\n",
        "      pictures[j].append([random.random(), random.random()])\n",
        "\n",
        "  points1 = np.asarray(pictures[i])\n",
        "  points2 = np.asarray(pictures[j])\n",
        "\n",
        "  # матрица камеры \n",
        "  K_00 = np.array([[9.842439e+02, 0.000000e+00, 6.900000e+02],\n",
        "          [0.000000e+00, 9.808141e+02, 2.331966e+02],\n",
        "          [0.000000e+00, 0.000000e+00, 1.000000e+00]])\n",
        "\n",
        "  R = np.array([])\n",
        "  R1 = np.array([])\n",
        "  R2 = np.array([])\n",
        "  t = np.array([])\n",
        "\n",
        "  if points1.shape == points2.shape:\n",
        "    E, mask = cv2.findEssentialMat(points1, points2, K_00, cv2.RANSAC, 0.999, 1.0)\n",
        "    #retval, R, t, mask = cv2.recoverPose(E, points1, points2, K_00, R, t, mask)\n",
        "    R1, R2, t\t=\tcv2.decomposeEssentialMat(E, R1, R2, t)\n",
        "    if i == 0:\n",
        "      rmatrices.append(R1)\n",
        "    else:\n",
        "      if (np.linalg.norm(R1 - rmatrices[i-1]) >\n",
        "          np.linalg.norm(R2 - rmatrices[i-1])):\n",
        "        rmatrices.append(R2)\n",
        "      else:\n",
        "        rmatrices.append(R1)\n",
        "\n",
        "\n",
        "  tvecs.append(t)\n",
        "\n",
        "for i in range(0, len(rmatrices)):\n",
        "  print(rmatrices[i])\n",
        "  print(\"\\n\")\n",
        "  \n",
        "for i in range(0, len(tvecs)):\n",
        "  print(tvecs[i])\n",
        "  print(\"\\n\")"
      ],
      "execution_count": 0,
      "outputs": []
    },
    {
      "metadata": {
        "id": "PO7rXout0W1Q",
        "colab_type": "code",
        "colab": {}
      },
      "cell_type": "code",
      "source": [
        "#построить траекторию (Rc + t итеративно)//сравнить с гроунд трус//\n",
        "\n",
        "position_0 = np.zeros((3, 1))\n",
        "positions = [position_0]\n",
        "\n",
        "for i in range(0, len(rmatrices)):  \n",
        "  position_iplus1 = np.dot(rmatrices[i], positions[i])\n",
        "  position_iplus1 = position_iplus1 + tvecs[i]\n",
        "\n",
        "  positions.append(position_iplus1)\n",
        "\n",
        "for i in range(0, len(positions)):\n",
        "  print(positions[i])\n",
        "  print(\"\\n\")\n",
        "  \n",
        "#нарисовать путь по их данным из граунд трус\n",
        "#прогнать побольше картинок\n",
        "#прогнать картинки с поворотом чтобы увидеть изменение"
      ],
      "execution_count": 0,
      "outputs": []
    },
    {
      "metadata": {
        "id": "TgQuQE-7Ico5",
        "colab_type": "code",
        "colab": {}
      },
      "cell_type": "code",
      "source": [
        "positions = np.asarray(positions)\n",
        "plt.xlim(-5, 5)\n",
        "plt.ylim(-2, 2)\n",
        "plt.gca().set_aspect('equal', adjustable='box')\n",
        "\n",
        "plt.scatter(positions[:, 0], positions[:, 1], s = 3)\n",
        "\n",
        "#plt.plot(positions[:, 0], positions[:, 1])\n",
        "\n",
        "#plt.draw()"
      ],
      "execution_count": 0,
      "outputs": []
    },
    {
      "metadata": {
        "id": "qpyWgoaqaVsQ",
        "colab_type": "code",
        "colab": {}
      },
      "cell_type": "code",
      "source": [
        "import math\n",
        "# из матрицы поворота в эйлеровы углы, как тут: https://www.learnopencv.com/rotation-matrix-to-euler-angles/\n",
        "def rotationMatrixToEulerAngles(R) :\n",
        "    sy = math.sqrt(R[0,0] * R[0,0] +  R[1,0] * R[1,0])\n",
        "     \n",
        "    singular = sy < 1e-6\n",
        " \n",
        "    if  not singular :\n",
        "        x = math.atan2(R[2,1] , R[2,2])\n",
        "        y = math.atan2(-R[2,0], sy)\n",
        "        z = math.atan2(R[1,0], R[0,0])\n",
        "    else :\n",
        "        x = math.atan2(-R[1,2], R[1,1])\n",
        "        y = math.atan2(-R[2,0], sy)\n",
        "        z = 0\n",
        " \n",
        "    return np.array([x, y, z])\n",
        "\n",
        "print(rotationMatrixToEulerAngles(R))"
      ],
      "execution_count": 0,
      "outputs": []
    },
    {
      "metadata": {
        "id": "7BXpjWP71i5h",
        "colab_type": "code",
        "colab": {}
      },
      "cell_type": "code",
      "source": [
        ""
      ],
      "execution_count": 0,
      "outputs": []
    }
  ]
}